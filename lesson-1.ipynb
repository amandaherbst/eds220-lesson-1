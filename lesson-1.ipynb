{
 "cells": [
  {
   "cell_type": "markdown",
   "id": "74afeec2-6399-47d1-a4f5-735694a92466",
   "metadata": {},
   "source": [
    "# `numpy`\n",
    "- one of the core packages for numerical computing in python\n",
    "- many packages are built on top of numpy\n",
    "- `numpy` has been optimized for processing: faster due to memory access"
   ]
  },
  {
   "cell_type": "code",
   "execution_count": 1,
   "id": "d1df3429-e15c-440b-98ca-5c964fd17603",
   "metadata": {
    "tags": []
   },
   "outputs": [],
   "source": [
    "# import numpy with standard abbreviation\n",
    "import numpy as np"
   ]
  },
  {
   "cell_type": "markdown",
   "id": "e120e1fd-cfeb-4d0f-ae6b-1db60ca47b2d",
   "metadata": {},
   "source": [
    "# Variables\n",
    "a name we assign to a particular object in Python. For example:"
   ]
  },
  {
   "cell_type": "code",
   "execution_count": 2,
   "id": "d023f609-8e85-4ca5-84e9-529e9e8b5085",
   "metadata": {
    "tags": []
   },
   "outputs": [],
   "source": [
    "# assign a small array to a variable a\n",
    "a = np.array( [ [1,1,2], [3,5,8] ] )"
   ]
  },
  {
   "cell_type": "markdown",
   "id": "7a2860a4-9c3c-4e52-9a7e-1173ce6cc6d8",
   "metadata": {},
   "source": [
    "When we run the cell, we store the variable and its value. We can see the variable's value in two ways:"
   ]
  },
  {
   "cell_type": "code",
   "execution_count": 3,
   "id": "17c991f8-548b-49bd-abbb-607f42bc960e",
   "metadata": {
    "tags": []
   },
   "outputs": [
    {
     "data": {
      "text/plain": [
       "array([[1, 1, 2],\n",
       "       [3, 5, 8]])"
      ]
     },
     "execution_count": 3,
     "metadata": {},
     "output_type": "execute_result"
    }
   ],
   "source": [
    "a"
   ]
  },
  {
   "cell_type": "code",
   "execution_count": 4,
   "id": "74643ff2-2480-450f-9a3e-d83794c384d0",
   "metadata": {
    "tags": []
   },
   "outputs": [
    {
     "name": "stdout",
     "output_type": "stream",
     "text": [
      "[[1 1 2]\n",
      " [3 5 8]]\n"
     ]
    }
   ],
   "source": [
    "print(a)"
   ]
  },
  {
   "cell_type": "markdown",
   "id": "d5916caf-ee4a-413c-a335-851b78e5ca66",
   "metadata": {},
   "source": [
    "## naming variables\n",
    "in the class, we are going to use `snake_case` for naming variables. \n",
    "\n",
    "# Variables and objects\n",
    "\n",
    "**object**: often encountered in Python documentation and tutorials. \n",
    "\n",
    "object is a bundle of properties and actions about something specific.\n",
    "\n",
    "Example:\n",
    "\n",
    "- object: data frame\n",
    "    - properties: number of rows, names of columns, data created\n",
    "    - actions: selecting a row, adding a column, ...\n",
    "    \n",
    "A variable is a name we give a specific object, and the same object can be referenced by different variables.\n",
    "\n",
    "Example:\n",
    "\n",
    "- The Sun (the actual star at the center of the solar system = object\n",
    "- sol = Spanish word for Sun = variable\n",
    "- soleil = French for Sun = another variable\n",
    "\n",
    "In practice, we will use object and variable interchangeably."
   ]
  },
  {
   "cell_type": "markdown",
   "id": "cc0706bc-a743-49a1-81dc-7ea7902b3b96",
   "metadata": {},
   "source": [
    "# Types\n",
    "\n",
    "Each object in Python has a type.\n",
    "\n",
    "type = what kind of object it is\n",
    "\n",
    "We can also call the type of the object the **class** of the object.\n",
    "\n",
    "We can see the type/class of an object by using the `type` function:"
   ]
  },
  {
   "cell_type": "code",
   "execution_count": 6,
   "id": "86ddded8-ca40-4267-ad17-8ae36369ac72",
   "metadata": {
    "tags": []
   },
   "outputs": [
    {
     "name": "stdout",
     "output_type": "stream",
     "text": [
      "[[1 1 2]\n",
      " [3 5 8]]\n"
     ]
    },
    {
     "data": {
      "text/plain": [
       "numpy.ndarray"
      ]
     },
     "execution_count": 6,
     "metadata": {},
     "output_type": "execute_result"
    }
   ],
   "source": [
    "print(a)\n",
    "type(a)"
   ]
  },
  {
   "cell_type": "markdown",
   "id": "868ce726-1a78-4679-9e85-0aac1dfee58f",
   "metadata": {},
   "source": [
    "The `numpy.ndarray` is the core object/data type in the NumPy package. We can check the type of an entry in the array by indexing:"
   ]
  },
  {
   "cell_type": "code",
   "execution_count": 7,
   "id": "4fa118ba-f4bb-43b8-a1bf-fe494b5b1a40",
   "metadata": {
    "tags": []
   },
   "outputs": [
    {
     "name": "stdout",
     "output_type": "stream",
     "text": [
      "1\n"
     ]
    },
    {
     "data": {
      "text/plain": [
       "numpy.int64"
      ]
     },
     "execution_count": 7,
     "metadata": {},
     "output_type": "execute_result"
    }
   ],
   "source": [
    "print(a[0,0])\n",
    "type(a[0,0])"
   ]
  },
  {
   "cell_type": "code",
   "execution_count": 8,
   "id": "41056916-582d-41f2-9d39-d1320f2a3c53",
   "metadata": {
    "tags": []
   },
   "outputs": [
    {
     "name": "stdout",
     "output_type": "stream",
     "text": [
      "5\n"
     ]
    }
   ],
   "source": [
    "# how would you access the value 5 in the array a?\n",
    "print(a[1,1])"
   ]
  },
  {
   "cell_type": "markdown",
   "id": "e1d72094-a82a-4d8e-9647-90d07362b307",
   "metadata": {},
   "source": [
    "# Functions\n",
    "\n",
    "`print` was our example of a python function! :))\n",
    "\n",
    "A function:\n",
    "- take in a set of **arguments** separated by commas, and \n",
    "- use those arguments tot produce some **outputs**\n",
    "\n",
    "argument = parameter : you might see argument more often in the documentation\n",
    "\n",
    "We can ask information about a function by executing `?` followed by the function name:"
   ]
  },
  {
   "cell_type": "code",
   "execution_count": 9,
   "id": "56ae198c-2d67-4b02-a183-fbda0ab08019",
   "metadata": {
    "tags": []
   },
   "outputs": [
    {
     "data": {
      "text/plain": [
       "\u001b[0;31mDocstring:\u001b[0m\n",
       "print(value, ..., sep=' ', end='\\n', file=sys.stdout, flush=False)\n",
       "\n",
       "Prints the values to a stream, or to sys.stdout by default.\n",
       "Optional keyword arguments:\n",
       "file:  a file-like object (stream); defaults to the current sys.stdout.\n",
       "sep:   string inserted between values, default a space.\n",
       "end:   string appended after the last value, default a newline.\n",
       "flush: whether to forcibly flush the stream.\n",
       "\u001b[0;31mType:\u001b[0m      builtin_function_or_method\n"
      ]
     },
     "metadata": {},
     "output_type": "display_data"
    }
   ],
   "source": [
    "?print"
   ]
  },
  {
   "cell_type": "markdown",
   "id": "0fac2eb5-ee28-4f40-a593-deb1ea8e5a4d",
   "metadata": {},
   "source": [
    "- first line: function showing all of its arguments in ()\n",
    "- then a short description of what the function does\n",
    "- finally, a list of the arguments and a brief explanation of each of them.\n",
    "\n",
    "Different types of arguments inside the parenthesis. Roughly speaking, there are two types of arguments:\n",
    "\n",
    "- **non-optional arguments**: arguments you need to specify for function to do something\n",
    "- **optional arguments**: arguments that are pre-filled with a default value by the function, but we can override them. Optional arguments appear inside the parenthsis in the form \n",
    "\n",
    "`optional argument = default_value`"
   ]
  },
  {
   "cell_type": "code",
   "execution_count": 11,
   "id": "d6535271-d4e2-4f24-b938-3777cf457d5c",
   "metadata": {
    "tags": []
   },
   "outputs": [
    {
     "name": "stdout",
     "output_type": "stream",
     "text": [
      "changing the default end argument of the print function :)"
     ]
    }
   ],
   "source": [
    "print('changing the default end argument of the print function', end=' :)')"
   ]
  },
  {
   "cell_type": "code",
   "execution_count": 12,
   "id": "7dc740fe-f799-4baf-8007-689bf2a7af59",
   "metadata": {
    "tags": []
   },
   "outputs": [
    {
     "name": "stdout",
     "output_type": "stream",
     "text": [
      "changing the default end argument of the print function\n"
     ]
    }
   ],
   "source": [
    "print('changing the default end argument of the print function')"
   ]
  },
  {
   "cell_type": "code",
   "execution_count": null,
   "id": "4df5f7f2-8b0b-4201-bc90-52586ee9fccc",
   "metadata": {},
   "outputs": [],
   "source": []
  }
 ],
 "metadata": {
  "kernelspec": {
   "display_name": "Anaconda 3 (Base)",
   "language": "python",
   "name": "base"
  },
  "language_info": {
   "codemirror_mode": {
    "name": "ipython",
    "version": 3
   },
   "file_extension": ".py",
   "mimetype": "text/x-python",
   "name": "python",
   "nbconvert_exporter": "python",
   "pygments_lexer": "ipython3",
   "version": "3.9.13"
  }
 },
 "nbformat": 4,
 "nbformat_minor": 5
}

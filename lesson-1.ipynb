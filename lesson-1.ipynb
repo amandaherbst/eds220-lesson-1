{
 "cells": [
  {
   "cell_type": "markdown",
   "id": "74afeec2-6399-47d1-a4f5-735694a92466",
   "metadata": {},
   "source": [
    "# `numpy`\n",
    "- one of the core packages for numerical computing in python\n",
    "- many packages are built on top of numpy\n",
    "- `numpy` has been optimized for processing: faster due to memory access"
   ]
  },
  {
   "cell_type": "code",
   "execution_count": 1,
   "id": "d1df3429-e15c-440b-98ca-5c964fd17603",
   "metadata": {
    "tags": []
   },
   "outputs": [],
   "source": [
    "# import numpy with standard abbreviation\n",
    "import numpy as np"
   ]
  },
  {
   "cell_type": "markdown",
   "id": "e120e1fd-cfeb-4d0f-ae6b-1db60ca47b2d",
   "metadata": {},
   "source": [
    "# Variables\n",
    "a name we assign to a particular object in Python. For example:"
   ]
  },
  {
   "cell_type": "code",
   "execution_count": 2,
   "id": "d023f609-8e85-4ca5-84e9-529e9e8b5085",
   "metadata": {
    "tags": []
   },
   "outputs": [],
   "source": [
    "# assign a small array to a variable a\n",
    "a = np.array( [ [1,1,2], [3,5,8] ] )"
   ]
  },
  {
   "cell_type": "markdown",
   "id": "7a2860a4-9c3c-4e52-9a7e-1173ce6cc6d8",
   "metadata": {},
   "source": [
    "When we run the cell, we store the variable and its value. We can see the variable's value in two ways:"
   ]
  },
  {
   "cell_type": "code",
   "execution_count": 3,
   "id": "17c991f8-548b-49bd-abbb-607f42bc960e",
   "metadata": {
    "tags": []
   },
   "outputs": [
    {
     "data": {
      "text/plain": [
       "array([[1, 1, 2],\n",
       "       [3, 5, 8]])"
      ]
     },
     "execution_count": 3,
     "metadata": {},
     "output_type": "execute_result"
    }
   ],
   "source": [
    "a"
   ]
  },
  {
   "cell_type": "code",
   "execution_count": 4,
   "id": "74643ff2-2480-450f-9a3e-d83794c384d0",
   "metadata": {
    "tags": []
   },
   "outputs": [
    {
     "name": "stdout",
     "output_type": "stream",
     "text": [
      "[[1 1 2]\n",
      " [3 5 8]]\n"
     ]
    }
   ],
   "source": [
    "print(a)"
   ]
  },
  {
   "cell_type": "markdown",
   "id": "d5916caf-ee4a-413c-a335-851b78e5ca66",
   "metadata": {},
   "source": [
    "## naming variables\n",
    "in the class, we are going to use `snake_case` for naming variables. \n",
    "\n",
    "# Variables and objects\n",
    "\n",
    "**object**: often encountered in Python documentation and tutorials. \n",
    "\n",
    "object is a bundle of properties and actions about something specific.\n",
    "\n",
    "Example:\n",
    "\n",
    "- object: data frame\n",
    "    - properties: number of rows, names of columns, data created\n",
    "    - actions: selecting a row, adding a column, ...\n",
    "    \n",
    "A variable is a name we give a specific object, and the same object can be referenced by different variables.\n",
    "\n",
    "Example:\n",
    "\n",
    "- The Sun (the actual star at the center of the solar system = object\n",
    "- sol = Spanish word for Sun = variable\n",
    "- soleil = French for Sun = another variable\n",
    "\n",
    "In practice, we will use object and variable interchangeably."
   ]
  },
  {
   "cell_type": "markdown",
   "id": "cc0706bc-a743-49a1-81dc-7ea7902b3b96",
   "metadata": {},
   "source": [
    "# Types\n",
    "\n",
    "Each object in Python has a type.\n",
    "\n",
    "type = what kind of object it is\n",
    "\n",
    "We can also call the type of the object the **class** of the object.\n",
    "\n",
    "We can see the type/class of an object by using the `type` function:"
   ]
  },
  {
   "cell_type": "code",
   "execution_count": 6,
   "id": "86ddded8-ca40-4267-ad17-8ae36369ac72",
   "metadata": {
    "tags": []
   },
   "outputs": [
    {
     "name": "stdout",
     "output_type": "stream",
     "text": [
      "[[1 1 2]\n",
      " [3 5 8]]\n"
     ]
    },
    {
     "data": {
      "text/plain": [
       "numpy.ndarray"
      ]
     },
     "execution_count": 6,
     "metadata": {},
     "output_type": "execute_result"
    }
   ],
   "source": [
    "print(a)\n",
    "type(a)"
   ]
  },
  {
   "cell_type": "markdown",
   "id": "868ce726-1a78-4679-9e85-0aac1dfee58f",
   "metadata": {},
   "source": [
    "The `numpy.ndarray` is the core object/data type in the NumPy package. We can check the type of an entry in the array by indexing:"
   ]
  },
  {
   "cell_type": "code",
   "execution_count": 7,
   "id": "4fa118ba-f4bb-43b8-a1bf-fe494b5b1a40",
   "metadata": {
    "tags": []
   },
   "outputs": [
    {
     "name": "stdout",
     "output_type": "stream",
     "text": [
      "1\n"
     ]
    },
    {
     "data": {
      "text/plain": [
       "numpy.int64"
      ]
     },
     "execution_count": 7,
     "metadata": {},
     "output_type": "execute_result"
    }
   ],
   "source": [
    "print(a[0,0])\n",
    "type(a[0,0])"
   ]
  },
  {
   "cell_type": "code",
   "execution_count": 8,
   "id": "41056916-582d-41f2-9d39-d1320f2a3c53",
   "metadata": {
    "tags": []
   },
   "outputs": [
    {
     "name": "stdout",
     "output_type": "stream",
     "text": [
      "5\n"
     ]
    }
   ],
   "source": [
    "# how would you access the value 5 in the array a?\n",
    "print(a[1,1])"
   ]
  },
  {
   "cell_type": "markdown",
   "id": "e1d72094-a82a-4d8e-9647-90d07362b307",
   "metadata": {},
   "source": [
    "# Functions\n",
    "\n",
    "`print` was our example of a python function! :))\n",
    "\n",
    "A function:\n",
    "- take in a set of **arguments** separated by commas, and \n",
    "- use those arguments tot produce some **outputs**\n",
    "\n",
    "argument = parameter : you might see argument more often in the documentation\n",
    "\n",
    "We can ask information about a function by executing `?` followed by the function name:"
   ]
  },
  {
   "cell_type": "code",
   "execution_count": 9,
   "id": "56ae198c-2d67-4b02-a183-fbda0ab08019",
   "metadata": {
    "tags": []
   },
   "outputs": [
    {
     "data": {
      "text/plain": [
       "\u001b[0;31mDocstring:\u001b[0m\n",
       "print(value, ..., sep=' ', end='\\n', file=sys.stdout, flush=False)\n",
       "\n",
       "Prints the values to a stream, or to sys.stdout by default.\n",
       "Optional keyword arguments:\n",
       "file:  a file-like object (stream); defaults to the current sys.stdout.\n",
       "sep:   string inserted between values, default a space.\n",
       "end:   string appended after the last value, default a newline.\n",
       "flush: whether to forcibly flush the stream.\n",
       "\u001b[0;31mType:\u001b[0m      builtin_function_or_method\n"
      ]
     },
     "metadata": {},
     "output_type": "display_data"
    }
   ],
   "source": [
    "?print"
   ]
  },
  {
   "cell_type": "markdown",
   "id": "0fac2eb5-ee28-4f40-a593-deb1ea8e5a4d",
   "metadata": {},
   "source": [
    "- first line: function showing all of its arguments in ()\n",
    "- then a short description of what the function does\n",
    "- finally, a list of the arguments and a brief explanation of each of them.\n",
    "\n",
    "Different types of arguments inside the parenthesis. Roughly speaking, there are two types of arguments:\n",
    "\n",
    "- **non-optional arguments**: arguments you need to specify for function to do something\n",
    "- **optional arguments**: arguments that are pre-filled with a default value by the function, but we can override them. Optional arguments appear inside the parenthsis in the form \n",
    "\n",
    "`optional argument = default_value`"
   ]
  },
  {
   "cell_type": "code",
   "execution_count": 11,
   "id": "d6535271-d4e2-4f24-b938-3777cf457d5c",
   "metadata": {
    "tags": []
   },
   "outputs": [
    {
     "name": "stdout",
     "output_type": "stream",
     "text": [
      "changing the default end argument of the print function :)"
     ]
    }
   ],
   "source": [
    "print('changing the default end argument of the print function', end=' :)')"
   ]
  },
  {
   "cell_type": "code",
   "execution_count": 12,
   "id": "7dc740fe-f799-4baf-8007-689bf2a7af59",
   "metadata": {
    "tags": []
   },
   "outputs": [
    {
     "name": "stdout",
     "output_type": "stream",
     "text": [
      "changing the default end argument of the print function\n"
     ]
    }
   ],
   "source": [
    "print('changing the default end argument of the print function')"
   ]
  },
  {
   "cell_type": "markdown",
   "id": "c62820c0-aa36-4a44-ab31-cb480745ca38",
   "metadata": {},
   "source": [
    "# Attributes & Methods\n",
    "\n",
    "An object in Python has attributes and methods.\n",
    "\n",
    "- **attributes**: a property of an object, a piece of information about it.\n",
    "- **method**: a procedure associated with an object, so it is an action where the main ingredient is the object.\n",
    "\n",
    "Access a variable's attributes and methods by adding a period `.` at the end of the variable's name\n",
    "\n",
    "`variable.variable_method()` or \n",
    "\n",
    "`variable.variable_attribute`\n",
    "\n",
    "Examples:\n",
    "\n",
    "Methods and attributes of NumPy arrays:"
   ]
  },
  {
   "cell_type": "code",
   "execution_count": 1,
   "id": "3a976b02-4b7c-4014-8d39-0123b7b96342",
   "metadata": {
    "tags": []
   },
   "outputs": [],
   "source": [
    "import numpy as np"
   ]
  },
  {
   "cell_type": "code",
   "execution_count": 2,
   "id": "a6f7555a-8e12-4b7d-882c-9b90f74cda4f",
   "metadata": {
    "tags": []
   },
   "outputs": [
    {
     "data": {
      "text/plain": [
       "array([[1, 2, 3],\n",
       "       [4, 5, 6],\n",
       "       [7, 8, 9]])"
      ]
     },
     "execution_count": 2,
     "metadata": {},
     "output_type": "execute_result"
    }
   ],
   "source": [
    "# define a 3x3 array\n",
    "var = np.array( [ [1,2,3], [4,5,6], [7,8,9] ] )\n",
    "var"
   ]
  },
  {
   "cell_type": "code",
   "execution_count": 3,
   "id": "2a9963c0-6f9a-4e33-88e2-80f02b3b9d22",
   "metadata": {
    "tags": []
   },
   "outputs": [
    {
     "data": {
      "text/plain": [
       "(3, 3)"
      ]
     },
     "execution_count": 3,
     "metadata": {},
     "output_type": "execute_result"
    }
   ],
   "source": [
    "# shape: attribute telling us the number of elements in each dimension of the array\n",
    "var.shape"
   ]
  },
  {
   "cell_type": "code",
   "execution_count": 4,
   "id": "c1214aab-1481-401b-bf6f-ba216c882a3f",
   "metadata": {
    "tags": []
   },
   "outputs": [
    {
     "data": {
      "text/plain": [
       "tuple"
      ]
     },
     "execution_count": 4,
     "metadata": {},
     "output_type": "execute_result"
    }
   ],
   "source": [
    "type(var.shape)"
   ]
  },
  {
   "cell_type": "code",
   "execution_count": 5,
   "id": "7bd21a8a-eda2-4ee0-9b84-e6cc79e9811e",
   "metadata": {
    "tags": []
   },
   "outputs": [
    {
     "data": {
      "text/plain": [
       "2"
      ]
     },
     "execution_count": 5,
     "metadata": {},
     "output_type": "execute_result"
    }
   ],
   "source": [
    "# ndim is an attribute holding the number of array dimensions\n",
    "var.ndim"
   ]
  },
  {
   "cell_type": "code",
   "execution_count": 6,
   "id": "c9412fcc-4287-4da6-ac3f-a660f7d9be7a",
   "metadata": {
    "tags": []
   },
   "outputs": [
    {
     "data": {
      "text/plain": [
       "int"
      ]
     },
     "execution_count": 6,
     "metadata": {},
     "output_type": "execute_result"
    }
   ],
   "source": [
    "type(var.ndim)"
   ]
  },
  {
   "cell_type": "markdown",
   "id": "33f75ecf-6a8f-4da8-9011-adf1d902ad18",
   "metadata": {},
   "source": [
    "- Notice attributes can have many different data types.\n",
    "\n",
    "Examples of methods:"
   ]
  },
  {
   "cell_type": "code",
   "execution_count": 7,
   "id": "50caff30-3c8f-4e83-b083-fdaed2834f2b",
   "metadata": {
    "tags": []
   },
   "outputs": [
    {
     "data": {
      "text/plain": [
       "1"
      ]
     },
     "execution_count": 7,
     "metadata": {},
     "output_type": "execute_result"
    }
   ],
   "source": [
    "# min method for array returns the minimum value in the array\n",
    "var.min()"
   ]
  },
  {
   "cell_type": "code",
   "execution_count": 10,
   "id": "08517b1e-3afd-4db7-9678-e748c67ddd06",
   "metadata": {
    "tags": []
   },
   "outputs": [
    {
     "data": {
      "text/plain": [
       "builtin_function_or_method"
      ]
     },
     "execution_count": 10,
     "metadata": {},
     "output_type": "execute_result"
    }
   ],
   "source": [
    "type(var.min)"
   ]
  },
  {
   "cell_type": "markdown",
   "id": "a773e572-1fda-40af-a8fb-4cbbc034108b",
   "metadata": {},
   "source": [
    "# R & Python\n",
    "R:\n",
    "- doesn't use methods within an object\n",
    "- functions in R are extrinsic to (outside) the objects they are acting on\n",
    "\n",
    "Example: recreate getting the min value in an array\n",
    "\n",
    "In R, there would be two separate items: the variable `var` and a *separate* function `min` that gets `var` as a parameter:\n",
    "\n",
    "```\n",
    "# this is R code\n",
    "var <- array(c(1,4,7,2,5,8,3,6,9), dim=c(3,3))\n",
    "min(var)\n",
    "```\n",
    "\n",
    "Using the pipe operator >%> in R's tidyverse is closer to the `.` in Python:\n",
    "\n",
    "```\n",
    "var <- array(c(1,4,7,2,5,8,3,6,9), dim=c(3,3))\n",
    "var >%> min()\n",
    "```\n",
    "\n",
    "What is happening?\n",
    "The pipe `>%>` is passing `var` to the `min()` as its first argument. This is essentially what the `.` does in Python:\n",
    "\n",
    "```\n",
    "var = np.array( [ [1,2,3], [4,5,6], [7,8,9] ] )\n",
    "var.min()\n",
    "```"
   ]
  }
 ],
 "metadata": {
  "kernelspec": {
   "display_name": "Anaconda 3 (Base)",
   "language": "python",
   "name": "base"
  },
  "language_info": {
   "codemirror_mode": {
    "name": "ipython",
    "version": 3
   },
   "file_extension": ".py",
   "mimetype": "text/x-python",
   "name": "python",
   "nbconvert_exporter": "python",
   "pygments_lexer": "ipython3",
   "version": "3.9.13"
  }
 },
 "nbformat": 4,
 "nbformat_minor": 5
}
